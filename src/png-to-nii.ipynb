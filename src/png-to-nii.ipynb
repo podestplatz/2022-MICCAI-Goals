{
 "cells": [
  {
   "cell_type": "code",
   "execution_count": 21,
   "metadata": {},
   "outputs": [],
   "source": [
    "import glob\n",
    "import nibabel as nb\n",
    "import numpy as np\n",
    "import os\n",
    "\n",
    "from pathlib import Path\n",
    "from PIL import Image"
   ]
  },
  {
   "cell_type": "markdown",
   "metadata": {},
   "source": [
    "Here I just want to check whether I am in the correct directory, which in my \n",
    "case starts with \"2022\". The base_dir is assumed to house the training data \n",
    "so you might want to change the conditional expression or ignore the output \n",
    "altogether."
   ]
  },
  {
   "cell_type": "code",
   "execution_count": 3,
   "metadata": {},
   "outputs": [
    {
     "name": "stdout",
     "output_type": "stream",
     "text": [
      "We are in the correct wd\n"
     ]
    }
   ],
   "source": [
    "base_path = Path(os.getcwd())\n",
    "\n",
    "if \"2022\" in base_path.stem: \n",
    "    print(\"We are in the correct wd\")\n",
    "else:\n",
    "    print(f\"We are in the wrong wd: {base_path}\")"
   ]
  },
  {
   "cell_type": "markdown",
   "metadata": {},
   "source": [
    "## Functions used for conversion\n",
    "The first function recursively indexes all PNG files that are to be found in \n",
    "the given directory, and the second function converts one image, using the \n",
    "information given by Hrvoje Bogunovic. "
   ]
  },
  {
   "cell_type": "code",
   "execution_count": 40,
   "metadata": {},
   "outputs": [],
   "source": [
    "def index_files(directory: Path | str): \n",
    "\n",
    "    \"\"\"Returns a list of all PNG files found recursivel in `directory`.\"\"\"\n",
    "\n",
    "    if isinstance(directory, Path): \n",
    "        directory = str(directory)\n",
    "\n",
    "    path_pattern = directory + \"/**/*.png\"\n",
    "    files = glob.glob(path_pattern)\n",
    "\n",
    "    path_pattern = directory + \"/*.png\"\n",
    "    files.extend(glob.glob(path_pattern))\n",
    "    return files\n",
    "\n",
    "\n",
    "def convert_file(fpath: Path | str, x_axis_len = 4, y_axis_len = 4*10**(-3)):\n",
    "    \"\"\" \n",
    "    Converts a PNG file `fpath` to a NiFti file.\n",
    "\n",
    "    For this it is assumed that the length of the x axis in the scanner's \n",
    "    coordinate system is 4mm and the y axis 4um. An affine transformation matrix\n",
    "    is defined that converts voxel coordinates back into the scanner's \n",
    "    coordinate system without rotation or translation. \n",
    "\n",
    "    NiFti images are given in grayscale. Due to that the PNG image is first \n",
    "    converted to grayscale leading to a 2D NiFti image.    \n",
    "\n",
    "    The scanner's coordinate system has the same origin as the original image's. \n",
    "    The only difference being the units on each axis. Where the unit of each \n",
    "    axis in the image is one pixel, the unit of the converted image's axes is  \n",
    "    millimeter. \n",
    "\n",
    "    Since the original dimensions are unknown, default lengths for each axis \n",
    "    are assumed, with the x axis assumed to be 4 mm in length and the y axis \n",
    "    4 um. \n",
    "\n",
    "    Parameters:\n",
    "    -----------\n",
    "    fpath: Path | str\n",
    "        Path to the PNG file that shall be converted\n",
    "\n",
    "    x_axis_len: int (default: 4)\n",
    "        Metric dimension of the x-axis in the scanner's x axis in mm.\n",
    "\n",
    "    x_axis_len: int (default: 4e-3)\n",
    "        Metric dimension of the y-axis in the scanner's y axis in mm.\n",
    "    \"\"\"\n",
    "\n",
    "    if isinstance(fpath, str):\n",
    "        fpath = Path(fpath)\n",
    "\n",
    "    dst_fpath = fpath.parent / (fpath.stem + \".nii\")\n",
    "\n",
    "    orig_image = Image.open(fpath).convert('L') # we don't care about the colors, nii images are also grayscale\n",
    "    img_arr = np.array(orig_image).astype(np.int16)\n",
    "\n",
    "    # we just want to scale each axis, no rotation and no translation\n",
    "    x_axis_res, y_axis_res = img_arr.shape\n",
    "    affine_matrix = np.diag([x_axis_len / x_axis_res, y_axis_len / y_axis_res, 1, 1])\n",
    "\n",
    "    nii_img = nb.Nifti1Image(img_arr, affine_matrix)\n",
    "    nii_img.to_filename(str(dst_fpath))"
   ]
  },
  {
   "cell_type": "code",
   "execution_count": 42,
   "metadata": {},
   "outputs": [],
   "source": [
    "png_images = index_files(base_path / \"data\" / \"Train\" / \"Image\")\n",
    "for img in png_images: \n",
    "    convert_file(img)"
   ]
  }
 ],
 "metadata": {
  "kernelspec": {
   "display_name": "Python 3.10.5 ('goals')",
   "language": "python",
   "name": "python3"
  },
  "language_info": {
   "codemirror_mode": {
    "name": "ipython",
    "version": 3
   },
   "file_extension": ".py",
   "mimetype": "text/x-python",
   "name": "python",
   "nbconvert_exporter": "python",
   "pygments_lexer": "ipython3",
   "version": "3.10.5"
  },
  "orig_nbformat": 4,
  "vscode": {
   "interpreter": {
    "hash": "74988ae4536e245c908de8045a09757b61709000590f4a3e2255b750ea3c5890"
   }
  }
 },
 "nbformat": 4,
 "nbformat_minor": 2
}
